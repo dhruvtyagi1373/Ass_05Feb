{
 "cells": [
  {
   "cell_type": "markdown",
   "id": "1b085930-e1b7-4320-ab33-0932ac23c348",
   "metadata": {},
   "source": [
    "## Q1. Explain Class and Object with respect to Object-Oriented Programming. Give a suitable example."
   ]
  },
  {
   "cell_type": "raw",
   "id": "8feedf04-c7e0-47fb-a127-93191e63354e",
   "metadata": {},
   "source": [
    "Classes are user-defined data types that act as the blueprint for individual objects, attributes and methods. Objects are instances of a class created with specifically defined data. Objects can correspond to real-world objects or an abstract entity."
   ]
  },
  {
   "cell_type": "code",
   "execution_count": 14,
   "id": "06bc2cf2-d214-4ef6-a7ff-ddc54dd95879",
   "metadata": {},
   "outputs": [],
   "source": [
    "## Example\n",
    "class Car:\n",
    "    def __init__():\n",
    "        print(\"This is my class\")\n",
    "\n",
    "car1 = Car"
   ]
  },
  {
   "cell_type": "markdown",
   "id": "613d8168-1db4-4966-af80-7e09f535414b",
   "metadata": {},
   "source": [
    "## Q2. Name the four pillars of OOPs."
   ]
  },
  {
   "cell_type": "raw",
   "id": "6aacbb0e-5834-450a-8603-bb8a25145659",
   "metadata": {},
   "source": [
    "The four pillars of OOPs are abstraction, encapsulation, inheritance, and polymorphism.\n",
    "-> An abstraction is a form of simplification and organization, allowing developers to focus on the essential parts of their code without focusing on the implementation details. It helps developers create code in a more efficient manner, while still providing the same functionality.\n",
    "-> Encapsulation is the process of combining data and codes into a single unit. It helps keep code organized, as well as helps prevent accidental data manipulation and changes.\n",
    "-> Inheritance is the process of creating new classes based on an existing class. It allows the developer to create subclasses that will inherit the attributes and behaviors of the parent class. This makes it easy to reuse code, making development faster and more efficient.\n",
    "-> polymorphism is a form of abstraction that allows different classes to fulfill the same behavior. By taking advantage of polymorphism, developers can create code that is more easily maintained and more versatile."
   ]
  },
  {
   "cell_type": "markdown",
   "id": "6e0f681d-7975-4852-a384-4c5cd54119b7",
   "metadata": {},
   "source": [
    "## Q3. Explain why the __init__() function is used. Give a suitable example."
   ]
  },
  {
   "cell_type": "raw",
   "id": "51510309-5a5a-433e-8bb0-ec6db1259957",
   "metadata": {},
   "source": [
    "In Python, __init__ is a special method known as the constructor. It is automatically called when a new instance (object) of a class is created. The __init__ method allows you to initialize the attributes (variables) of an object."
   ]
  },
  {
   "cell_type": "code",
   "execution_count": 1,
   "id": "a9ee8616-40cc-4b9d-b8c4-653dfedba4e7",
   "metadata": {},
   "outputs": [
    {
     "name": "stdout",
     "output_type": "stream",
     "text": [
      "Name: John\n",
      "Age: 25\n"
     ]
    }
   ],
   "source": [
    "class MyClass:\n",
    "    def __init__(self, name, age):\n",
    "        self.name = name\n",
    "        self.age = age\n",
    "\n",
    "    def display_info(self):\n",
    "        print(f\"Name: {self.name}\")\n",
    "        print(f\"Age: {self.age}\")\n",
    "\n",
    "# Creating an instance of MyClass\n",
    "obj = MyClass(\"John\", 25)\n",
    "\n",
    "# Accessing attributes and calling methods\n",
    "obj.display_info()"
   ]
  },
  {
   "cell_type": "markdown",
   "id": "fe71e667-f20c-4a76-9dc4-da3a198a916e",
   "metadata": {},
   "source": [
    "## Q4. Why self is used in OOPs?"
   ]
  },
  {
   "cell_type": "raw",
   "id": "81a782f0-c924-4358-b176-16377455ce60",
   "metadata": {},
   "source": [
    "When working with classes in Python, the term “self” refers to the instance of the class that is currently being used. It is customary to use “self” as the first parameter in instance methods of a class. Whenever you call a method of an object created from a class, the object is automatically passed as the first argument using the “self” parameter. This enables you to modify the object’s properties and execute tasks unique to that particular instance."
   ]
  },
  {
   "cell_type": "markdown",
   "id": "4fec68d1-a121-42e2-9142-63b53b2d4dd0",
   "metadata": {},
   "source": [
    "## Q5. What is inheritance? Give an example for each type of inheritance."
   ]
  },
  {
   "cell_type": "raw",
   "id": "be040ef4-bd36-435c-ad83-4f54dfc99bfa",
   "metadata": {},
   "source": [
    "Inheritance is a mechanism that allows you to create a hierarchy of classes that share a set of properties and methods by deriving a class from another class. Inheritance is the capability of one class to derive or inherit the properties from another class. "
   ]
  },
  {
   "cell_type": "code",
   "execution_count": 5,
   "id": "e5853dbd-01de-444a-9c25-e72bda668c44",
   "metadata": {},
   "outputs": [
    {
     "name": "stdout",
     "output_type": "stream",
     "text": [
      "Rahul False\n",
      "Karan True\n"
     ]
    }
   ],
   "source": [
    "## Example of Single Inheritance\n",
    "class Person(object):\n",
    "\n",
    "    def __init__(self, name):\n",
    "        self.name = name\n",
    " \n",
    "    def getName(self):\n",
    "        return self.name\n",
    " \n",
    "    def isEmployee(self):\n",
    "        return False\n",
    " \n",
    "class Employee(Person):\n",
    " \n",
    "    def isEmployee(self):\n",
    "        return True\n",
    " \n",
    " \n",
    "\n",
    "emp = Person(\"Rahul\")  \n",
    "print(emp.getName(), emp.isEmployee())\n",
    " \n",
    "emp = Employee(\"Karan\") \n",
    "print(emp.getName(), emp.isEmployee())"
   ]
  },
  {
   "cell_type": "code",
   "execution_count": 6,
   "id": "43801a84-85de-48ee-ba05-1c04e3a2fba9",
   "metadata": {},
   "outputs": [
    {
     "name": "stdout",
     "output_type": "stream",
     "text": [
      "Base1\n",
      "Base2\n",
      "Derived\n",
      "Geek1 Geek2\n"
     ]
    }
   ],
   "source": [
    "## Example of Multiple Inheritance\n",
    "class Base1(object):\n",
    "    def __init__(self):\n",
    "        self.str1 = \"Geek1\"\n",
    "        print(\"Base1\")\n",
    " \n",
    " \n",
    "class Base2(object):\n",
    "    def __init__(self):\n",
    "        self.str2 = \"Geek2\"\n",
    "        print(\"Base2\")\n",
    " \n",
    " \n",
    "class Derived(Base1, Base2):\n",
    "    def __init__(self):\n",
    "\n",
    "        Base1.__init__(self)\n",
    "        Base2.__init__(self)\n",
    "        print(\"Derived\")\n",
    " \n",
    "    def printStrs(self):\n",
    "        print(self.str1, self.str2)\n",
    " \n",
    " \n",
    "ob = Derived()\n",
    "ob.printStrs()"
   ]
  },
  {
   "cell_type": "code",
   "execution_count": 7,
   "id": "5e09da11-a926-434a-9244-4927b18cd2da",
   "metadata": {},
   "outputs": [
    {
     "name": "stdout",
     "output_type": "stream",
     "text": [
      "Geek1 23 Noida\n"
     ]
    }
   ],
   "source": [
    "## Example of Multilevel Inheritance\n",
    "class Base(object):\n",
    " \n",
    "    def __init__(self, name):\n",
    "        self.name = name\n",
    " \n",
    "    def getName(self):\n",
    "        return self.name\n",
    " \n",
    " \n",
    "class Child(Base):\n",
    "\n",
    "    def __init__(self, name, age):\n",
    "        Base.__init__(self, name)\n",
    "        self.age = age\n",
    " \n",
    "    def getAge(self):\n",
    "        return self.age\n",
    "    \n",
    " \n",
    "class GrandChild(Child):\n",
    " \n",
    "    def __init__(self, name, age, address):\n",
    "        Child.__init__(self, name, age)\n",
    "        self.address = address\n",
    " \n",
    "    def getAddress(self):\n",
    "        return self.address\n",
    " \n",
    " \n",
    "g = GrandChild(\"Geek1\", 23, \"Noida\")\n",
    "print(g.getName(), g.getAge(), g.getAddress())"
   ]
  },
  {
   "cell_type": "raw",
   "id": "30faabdb-2a4f-46d3-b61f-790ef50e0091",
   "metadata": {},
   "source": [
    "- Hierarchical inheritance : More than one derived class can be created from a single base.\n",
    "- Hybrid inheritance: This form combines more than one form of inheritance. Basically, it is a blend of more than one type of inheritance."
   ]
  },
  {
   "cell_type": "code",
   "execution_count": null,
   "id": "bcc7e799-c6dd-4028-840a-cdcd12a86da9",
   "metadata": {},
   "outputs": [],
   "source": []
  },
  {
   "cell_type": "code",
   "execution_count": null,
   "id": "5f41a030-b34b-4b6f-855f-2378d76653aa",
   "metadata": {},
   "outputs": [],
   "source": []
  },
  {
   "cell_type": "code",
   "execution_count": null,
   "id": "0ab9a025-84eb-4de1-a2aa-1729f77e6f65",
   "metadata": {},
   "outputs": [],
   "source": []
  },
  {
   "cell_type": "code",
   "execution_count": null,
   "id": "a7aae4cb-9bf2-4845-98ab-48aafa1728d3",
   "metadata": {},
   "outputs": [],
   "source": []
  }
 ],
 "metadata": {
  "kernelspec": {
   "display_name": "Python 3 (ipykernel)",
   "language": "python",
   "name": "python3"
  },
  "language_info": {
   "codemirror_mode": {
    "name": "ipython",
    "version": 3
   },
   "file_extension": ".py",
   "mimetype": "text/x-python",
   "name": "python",
   "nbconvert_exporter": "python",
   "pygments_lexer": "ipython3",
   "version": "3.10.8"
  }
 },
 "nbformat": 4,
 "nbformat_minor": 5
}
